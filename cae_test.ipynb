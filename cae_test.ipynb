{
 "cells": [
  {
   "cell_type": "code",
   "execution_count": 1,
   "id": "b87534ee-763a-4290-80a3-319de00026a4",
   "metadata": {},
   "outputs": [],
   "source": [
    "from tensorflow.keras.models import load_model\n",
    "import os\n",
    "import numpy as np\n",
    "import cv2\n",
    "import pandas as pd\n",
    "from tensorflow.keras.preprocessing.image import ImageDataGenerator\n",
    "import tensorflow as tf"
   ]
  },
  {
   "cell_type": "code",
   "execution_count": 2,
   "id": "85b5e63b-c425-4a80-81e0-a34d51917288",
   "metadata": {},
   "outputs": [],
   "source": [
    "model = load_model(\"10k_2L_ms_ssim_10f(avgpool,k2=0.06,f=5).keras\", safe_mode=False) #Enter file path of save model"
   ]
  },
  {
   "cell_type": "code",
   "execution_count": 11,
   "id": "bd06c1c3-cc34-4e2f-af64-deb38aa7b630",
   "metadata": {},
   "outputs": [],
   "source": [
    "def prepare_dataframe(input_folder):\n",
    "    image_dir = input_folder\n",
    "    file_path =  [os.path.join(image_dir, fname) for fname in os.listdir(image_dir) if fname.endswith(('JPG','PNG','JPEG','jpeg', 'jpg'))]\n",
    "    df = pd.DataFrame({\n",
    "        'filename' : file_path,\n",
    "        'class' : [0] * len(file_path)\n",
    "    })\n",
    "    \n",
    "    return df"
   ]
  },
  {
   "cell_type": "code",
   "execution_count": 12,
   "id": "1c2d3d19-3ee2-4201-802c-a578f412b1ee",
   "metadata": {},
   "outputs": [],
   "source": [
    "df_test=prepare_dataframe(\"model_trial_result/test_img\") #file path of test image folder"
   ]
  },
  {
   "cell_type": "code",
   "execution_count": 13,
   "id": "2bb6d22b-e066-4878-a1d1-f8eaa1f82a1b",
   "metadata": {},
   "outputs": [
    {
     "data": {
      "text/html": [
       "<div>\n",
       "<style scoped>\n",
       "    .dataframe tbody tr th:only-of-type {\n",
       "        vertical-align: middle;\n",
       "    }\n",
       "\n",
       "    .dataframe tbody tr th {\n",
       "        vertical-align: top;\n",
       "    }\n",
       "\n",
       "    .dataframe thead th {\n",
       "        text-align: right;\n",
       "    }\n",
       "</style>\n",
       "<table border=\"1\" class=\"dataframe\">\n",
       "  <thead>\n",
       "    <tr style=\"text-align: right;\">\n",
       "      <th></th>\n",
       "      <th>filename</th>\n",
       "      <th>class</th>\n",
       "    </tr>\n",
       "  </thead>\n",
       "  <tbody>\n",
       "    <tr>\n",
       "      <th>0</th>\n",
       "      <td>model_trial_result/test_img\\Parrot.jpg</td>\n",
       "      <td>0</td>\n",
       "    </tr>\n",
       "    <tr>\n",
       "      <th>1</th>\n",
       "      <td>model_trial_result/test_img\\Test 7.jpg</td>\n",
       "      <td>0</td>\n",
       "    </tr>\n",
       "  </tbody>\n",
       "</table>\n",
       "</div>"
      ],
      "text/plain": [
       "                                 filename  class\n",
       "0  model_trial_result/test_img\\Parrot.jpg      0\n",
       "1  model_trial_result/test_img\\Test 7.jpg      0"
      ]
     },
     "execution_count": 13,
     "metadata": {},
     "output_type": "execute_result"
    }
   ],
   "source": [
    "df_test"
   ]
  },
  {
   "cell_type": "code",
   "execution_count": 14,
   "id": "8bbceb44-99d8-41bc-833d-78bba83a4c22",
   "metadata": {},
   "outputs": [
    {
     "name": "stdout",
     "output_type": "stream",
     "text": [
      "Found 2 validated image filenames.\n"
     ]
    }
   ],
   "source": [
    "test_datagen = ImageDataGenerator(rescale=1./255)\n",
    "test_img = test_datagen.flow_from_dataframe(\n",
    "        dataframe=df_test,\n",
    "        target_size=(1024, 1024),\n",
    "        batch_size=64,\n",
    "        color_mode='grayscale',\n",
    "        class_mode=\"input\",\n",
    "        shuffle=False,\n",
    "        workers=8,\n",
    "        use_multiprocessing=True \n",
    "    )"
   ]
  },
  {
   "cell_type": "code",
   "execution_count": 7,
   "id": "3ab6c9ff-e04a-4c91-9d89-fbd3a184d6f2",
   "metadata": {
    "scrolled": true
   },
   "outputs": [
    {
     "name": "stderr",
     "output_type": "stream",
     "text": [
      "C:\\Users\\Administrator\\anaconda3\\Lib\\site-packages\\keras\\src\\trainers\\data_adapters\\py_dataset_adapter.py:121: UserWarning: Your `PyDataset` class should call `super().__init__(**kwargs)` in its constructor. `**kwargs` can include `workers`, `use_multiprocessing`, `max_queue_size`. Do not pass these arguments to `fit()`, as they will be ignored.\n",
      "  self._warn_if_super_not_called()\n"
     ]
    },
    {
     "name": "stdout",
     "output_type": "stream",
     "text": [
      "\u001b[1m1/1\u001b[0m \u001b[32m━━━━━━━━━━━━━━━━━━━━\u001b[0m\u001b[37m\u001b[0m \u001b[1m1s\u001b[0m 580ms/step\n"
     ]
    }
   ],
   "source": [
    "predictions = model.predict(test_img)"
   ]
  },
  {
   "cell_type": "code",
   "execution_count": 10,
   "id": "7342a911-0c15-4270-9e56-9b77c6d5fc37",
   "metadata": {},
   "outputs": [],
   "source": [
    "save_dir = 'model_trial_result/predicted_img'\n",
    "os.makedirs(save_dir, exist_ok=True)\n",
    "for i, prediction in enumerate(predictions):\n",
    "    original_image_path = test_img.filepaths[i]\n",
    "    image_name = os.path.basename(original_image_path)\n",
    "    predicted_image = (predictions[i]*255).astype(np.float32)\n",
    "    trial_no = '20'\n",
    "    name, ext = os.path.splitext(image_name)\n",
    "    predicted_image_name = f'pred_{name}_trial-{trial_no}{ext}'\n",
    "    predicted_image_path = os.path.join(save_dir, predicted_image_name)\n",
    "    cv2.imwrite(predicted_image_path, predicted_image)"
   ]
  }
 ],
 "metadata": {
  "kernelspec": {
   "display_name": "Python 3 (ipykernel)",
   "language": "python",
   "name": "python3"
  },
  "language_info": {
   "codemirror_mode": {
    "name": "ipython",
    "version": 3
   },
   "file_extension": ".py",
   "mimetype": "text/x-python",
   "name": "python",
   "nbconvert_exporter": "python",
   "pygments_lexer": "ipython3",
   "version": "3.11.7"
  }
 },
 "nbformat": 4,
 "nbformat_minor": 5
}
